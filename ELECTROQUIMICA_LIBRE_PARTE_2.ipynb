{
  "nbformat": 4,
  "nbformat_minor": 0,
  "metadata": {
    "colab": {
      "provenance": [],
      "authorship_tag": "ABX9TyNQqAVXfhL2KgX1ODGJrcpa",
      "include_colab_link": true
    },
    "kernelspec": {
      "name": "python3",
      "display_name": "Python 3"
    },
    "language_info": {
      "name": "python"
    }
  },
  "cells": [
    {
      "cell_type": "markdown",
      "metadata": {
        "id": "view-in-github",
        "colab_type": "text"
      },
      "source": [
        "<a href=\"https://colab.research.google.com/github/JosephValentino14/Pr-cticas-de-Qu-mica/blob/main/ELECTROQUIMICA_LIBRE_PARTE_2.ipynb\" target=\"_parent\"><img src=\"https://colab.research.google.com/assets/colab-badge.svg\" alt=\"Open In Colab\"/></a>"
      ]
    },
    {
      "cell_type": "code",
      "execution_count": 2,
      "metadata": {
        "colab": {
          "base_uri": "https://localhost:8080/"
        },
        "id": "6Un6p0MMLvMu",
        "outputId": "73cc1dac-271f-4908-8016-a4c6c53ef573"
      },
      "outputs": [
        {
          "output_type": "stream",
          "name": "stdout",
          "text": [
            "La concentración de la disolución de agua oxigenada es: 0.3750 M\n"
          ]
        }
      ],
      "source": [
        "\n",
        "V_oxigenada = 1\n",
        "V_final = 20\n",
        "C_permanganato = 0.01\n",
        "\n",
        "# Volumen de permanganato usado en la valoración\n",
        "V_permanganato = 15  # Volumen de permanganato en mL\n",
        "\n",
        "# Calculando la cantidad de moles de permanganato de potasio\n",
        "moles_permanganato = C_permanganato * V_permanganato / 1000  # Convertir a litros\n",
        "\n",
        "# Relación entre los moles de permanganato y agua oxigenada es 2:5\n",
        "moles_oxigenada = (moles_permanganato * 5) / 2\n",
        "\n",
        "# Calculando la concentración de la disolución de agua oxigenada\n",
        "C_oxigenada = moles_oxigenada / (V_oxigenada / 1000)  # Convertir a litros\n",
        "\n",
        "# Imprimir la concentración de la disolución de agua oxigenada\n",
        "print(f\"La concentración de la disolución de agua oxigenada es: {C_oxigenada:.4f} M\")"
      ]
    }
  ]
}