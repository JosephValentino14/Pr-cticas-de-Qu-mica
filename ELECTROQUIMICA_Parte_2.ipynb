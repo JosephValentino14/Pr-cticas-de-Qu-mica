{
  "nbformat": 4,
  "nbformat_minor": 0,
  "metadata": {
    "colab": {
      "provenance": []
    },
    "kernelspec": {
      "name": "python3",
      "display_name": "Python 3"
    },
    "language_info": {
      "name": "python"
    }
  },
  "cells": [
    {
      "cell_type": "markdown",
      "source": [
        "**ELECTROQUIMICA - (7) libre#2 **"
      ],
      "metadata": {
        "id": "jqfe5gwAKFbK"
      }
    },
    {
      "cell_type": "code",
      "execution_count": null,
      "metadata": {
        "id": "CRb-611QJ9dy"
      },
      "outputs": [],
      "source": [
        "V_oxigenada = 1\n",
        "V_final = 20\n",
        "C_permanganato = 0.01\n",
        "\n",
        "# Volumen de permanganato usado en la valoración\n",
        "V_permanganato = 15  # Volumen de permanganato en mL\n",
        "\n",
        "# Calculando la cantidad de moles de permanganato de potasio\n",
        "moles_permanganato = C_permanganato * V_permanganato / 1000  # Convertir a litros\n",
        "\n",
        "# Relación entre los moles de permanganato y agua oxigenada es 2:5\n",
        "moles_oxigenada = (moles_permanganato * 5) / 2\n",
        "\n",
        "# Calculando la concentración de la disolución de agua oxigenada\n",
        "C_oxigenada = moles_oxigenada / (V_oxigenada / 1000)  # Convertir a litros\n",
        "\n",
        "# Imprimir la concentración de la disolución de agua oxigenada\n",
        "print(f\"La concentración de la disolución de agua oxigenada es: {C_oxigenada:.4f} M\")"
      ]
    }
  ]
}