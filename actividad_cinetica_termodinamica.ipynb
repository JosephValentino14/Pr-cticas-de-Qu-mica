{
  "nbformat": 4,
  "nbformat_minor": 0,
  "metadata": {
    "colab": {
      "provenance": [],
      "authorship_tag": "ABX9TyNZ+aJQRAvLICyxeK2oHd07",
      "include_colab_link": true
    },
    "kernelspec": {
      "name": "python3",
      "display_name": "Python 3"
    },
    "language_info": {
      "name": "python"
    }
  },
  "cells": [
    {
      "cell_type": "markdown",
      "metadata": {
        "id": "view-in-github",
        "colab_type": "text"
      },
      "source": [
        "<a href=\"https://colab.research.google.com/github/JosephValentino14/Pr-cticas-de-Qu-mica/blob/main/actividad_cinetica_termodinamica.ipynb\" target=\"_parent\"><img src=\"https://colab.research.google.com/assets/colab-badge.svg\" alt=\"Open In Colab\"/></a>"
      ]
    },
    {
      "cell_type": "code",
      "execution_count": 9,
      "metadata": {
        "colab": {
          "base_uri": "https://localhost:8080/"
        },
        "id": "nyzsFuYCzz0F",
        "outputId": "b6b98338-9dd0-4578-f983-1f517a6cd6b3"
      },
      "outputs": [
        {
          "output_type": "stream",
          "name": "stdout",
          "text": [
            "Delta H de la reacción = -50 kJ/mol\n",
            "Tipo de reacción: Exotérmica\n"
          ]
        }
      ],
      "source": [
        "# Valores de energía de formación estándar (en kJ/mol)\n",
        "delta_Hf_cis = -100\n",
        "delta_Hf_trans = -150\n",
        "\n",
        "delta_H_reaccion = delta_Hf_trans - delta_Hf_cis\n",
        "\n",
        "if delta_H_reaccion > 0:\n",
        "    tipo_reaccion = \"Endotérmica\"\n",
        "elif delta_H_reaccion < 0:\n",
        "    tipo_reaccion = \"Exotérmica\"\n",
        "else:\n",
        "    tipo_reaccion = \"Reacción sin cambio de entalpía\"\n",
        "\n",
        "print(f\"Delta H de la reacción = {delta_H_reaccion} kJ/mol\")\n",
        "print(f\"Tipo de reacción: {tipo_reaccion}\")\n"
      ]
    },
    {
      "cell_type": "code",
      "source": [],
      "metadata": {
        "id": "PyX4LRb_070B"
      },
      "execution_count": null,
      "outputs": []
    }
  ]
}