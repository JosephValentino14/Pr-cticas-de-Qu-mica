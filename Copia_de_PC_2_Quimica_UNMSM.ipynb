{
  "nbformat": 4,
  "nbformat_minor": 0,
  "metadata": {
    "colab": {
      "provenance": [],
      "include_colab_link": true
    },
    "kernelspec": {
      "name": "python3",
      "display_name": "Python 3"
    },
    "language_info": {
      "name": "python"
    },
    "widgets": {
      "application/vnd.jupyter.widget-state+json": {
        "b0c09de1ace64f7aa7a6af5cb9b92ba9": {
          "model_module": "faerun-notebook",
          "model_name": "SmilesDrawerModel",
          "model_module_version": "^0.1.5",
          "state": {
            "_dom_classes": [],
            "_model_module": "faerun-notebook",
            "_model_module_version": "^0.1.5",
            "_model_name": "SmilesDrawerModel",
            "_view_count": null,
            "_view_module": "faerun-notebook",
            "_view_module_version": "^0.1.5",
            "_view_name": "SmilesDrawerView",
            "background": "#1e1e1e",
            "border": true,
            "layout": "IPY_MODEL_fe6f633f5efa4858bc11b4e2a00c83eb",
            "options": {
              "scale": 1.25
            },
            "output": "svg",
            "theme": "dark",
            "value": [
              [
                "Rxn",
                "CC=CC.O=O >> C(=O)=O + 2H2O"
              ]
            ]
          }
        },
        "fe6f633f5efa4858bc11b4e2a00c83eb": {
          "model_module": "@jupyter-widgets/base",
          "model_name": "LayoutModel",
          "model_module_version": "1.2.0",
          "state": {
            "_model_module": "@jupyter-widgets/base",
            "_model_module_version": "1.2.0",
            "_model_name": "LayoutModel",
            "_view_count": null,
            "_view_module": "@jupyter-widgets/base",
            "_view_module_version": "1.2.0",
            "_view_name": "LayoutView",
            "align_content": null,
            "align_items": null,
            "align_self": null,
            "border": null,
            "bottom": null,
            "display": null,
            "flex": null,
            "flex_flow": null,
            "grid_area": null,
            "grid_auto_columns": null,
            "grid_auto_flow": null,
            "grid_auto_rows": null,
            "grid_column": null,
            "grid_gap": null,
            "grid_row": null,
            "grid_template_areas": null,
            "grid_template_columns": null,
            "grid_template_rows": null,
            "height": null,
            "justify_content": null,
            "justify_items": null,
            "left": null,
            "margin": null,
            "max_height": null,
            "max_width": null,
            "min_height": null,
            "min_width": null,
            "object_fit": null,
            "object_position": null,
            "order": null,
            "overflow": null,
            "overflow_x": null,
            "overflow_y": null,
            "padding": null,
            "right": null,
            "top": null,
            "visibility": null,
            "width": null
          }
        }
      }
    }
  },
  "cells": [
    {
      "cell_type": "markdown",
      "metadata": {
        "id": "view-in-github",
        "colab_type": "text"
      },
      "source": [
        "<a href=\"https://colab.research.google.com/github/JosephValentino14/Pr-cticas-de-Qu-mica/blob/main/Copia_de_PC_2_Quimica_UNMSM.ipynb\" target=\"_parent\"><img src=\"https://colab.research.google.com/assets/colab-badge.svg\" alt=\"Open In Colab\"/></a>"
      ]
    },
    {
      "cell_type": "markdown",
      "source": [
        "$$\\Large \\textit{UNMSM | Química}$$\n",
        "$$\\large \\textbf{PC Nº2 | Materia y clasificación}$$\n",
        "\n",
        "_Profesor: Jesus Alvarado Huayhuaz_"
      ],
      "metadata": {
        "id": "sDJAjbaQOj4x"
      }
    },
    {
      "cell_type": "markdown",
      "source": [
        "*Todas* las indicaciones para la presentación de la práctica son explicadas en clase y brindadas en el material de enunciado de preguntas en formato PDF."
      ],
      "metadata": {
        "id": "_DsTzWLoP7Fy"
      }
    },
    {
      "cell_type": "markdown",
      "source": [
        "## Pregunta 1: DataFrames y listas en python (4 puntos)"
      ],
      "metadata": {
        "id": "obD7c2igOD6t"
      }
    },
    {
      "cell_type": "markdown",
      "source": [
        "Usando PeriodicTable, crea una tabla con 20 elementos químicos y en las columnas considera: nombre, simbolo, masa_atomica, numero_atomico\ty valencias. Puedes ayudarte del siguiente [material](https://github.com/inefable12/UNMSM_quimica_2023/blob/main/Python_para_quimica_2023.ipynb)."
      ],
      "metadata": {
        "id": "gV4WKDa72eez"
      }
    },
    {
      "cell_type": "code",
      "source": [
        "!pip show periodictable\n"
      ],
      "metadata": {
        "colab": {
          "base_uri": "https://localhost:8080/"
        },
        "id": "Bb4LSzgpQ_28",
        "outputId": "538611fb-35d0-4542-fa36-62c85f469fe1"
      },
      "execution_count": 41,
      "outputs": [
        {
          "output_type": "stream",
          "name": "stdout",
          "text": [
            "Name: periodictable\n",
            "Version: 1.6.1\n",
            "Summary: Extensible periodic table of the elements\n",
            "Home-page: https://github.com/pkienzle/periodictable\n",
            "Author: Paul Kienzle\n",
            "Author-email: pkienzle@gmail.com\n",
            "License: public domain\n",
            "Location: /root/.local/lib/python3.10/site-packages\n",
            "Requires: numpy, pyparsing\n",
            "Required-by: \n"
          ]
        }
      ]
    },
    {
      "cell_type": "code",
      "source": [
        "import periodictable\n",
        "\n",
        "elementos = [\n",
        "    \"H\", \"He\", \"Li\", \"Be\", \"B\", \"C\", \"N\", \"O\", \"F\", \"Ne\",\n",
        "    \"Na\", \"Mg\", \"Al\", \"Si\", \"P\", \"S\", \"Cl\", \"Ar\", \"K\", \"Ca\"\n",
        "]\n",
        "\n",
        "tabla = []\n",
        "\n",
        "for elemento_nombre in elementos:\n",
        "    elemento = periodictable.elements.symbol(elemento_nombre)\n",
        "    valencia = \"Varia\"\n",
        "    tabla.append([\n",
        "        elemento.name,\n",
        "        elemento.symbol,\n",
        "        elemento.mass,\n",
        "        elemento.number,\n",
        "        valencia\n",
        "    ])\n",
        "\n",
        "print(\"| {:<15} | {:<7} | {:<15} | {:<13} | {:<12} |\".format(\"Nombre\", \"Símbolo\", \"Masa Atómica (u)\", \"Número Atómico\", \"Valencias\"))\n",
        "print(\"|\" + \"-\" * 17 + \"|\" + \"-\" * 9 + \"|\" + \"-\" * 18 + \"|\" + \"-\" * 14 + \"|\" + \"-\" * 13 + \"|\")\n",
        "for fila in tabla:\n",
        "    print(\"| {:<15} | {:<7} | {:<15.4f} | {:<13} | {:<12} |\".format(*fila))\n",
        "\n"
      ],
      "metadata": {
        "id": "jfT_MFPQ3CEZ",
        "colab": {
          "base_uri": "https://localhost:8080/"
        },
        "outputId": "9cbf4979-37f5-4181-d9a2-371de92fa9aa"
      },
      "execution_count": 1,
      "outputs": [
        {
          "output_type": "stream",
          "name": "stdout",
          "text": [
            "| Nombre          | Símbolo | Masa Atómica (u) | Número Atómico | Valencias    |\n",
            "|-----------------|---------|------------------|--------------|-------------|\n",
            "| hydrogen        | H       | 1.0079          | 1             | Varia        |\n",
            "| helium          | He      | 4.0026          | 2             | Varia        |\n",
            "| lithium         | Li      | 6.9410          | 3             | Varia        |\n",
            "| beryllium       | Be      | 9.0122          | 4             | Varia        |\n",
            "| boron           | B       | 10.8110         | 5             | Varia        |\n",
            "| carbon          | C       | 12.0107         | 6             | Varia        |\n",
            "| nitrogen        | N       | 14.0067         | 7             | Varia        |\n",
            "| oxygen          | O       | 15.9994         | 8             | Varia        |\n",
            "| fluorine        | F       | 18.9984         | 9             | Varia        |\n",
            "| neon            | Ne      | 20.1797         | 10            | Varia        |\n",
            "| sodium          | Na      | 22.9898         | 11            | Varia        |\n",
            "| magnesium       | Mg      | 24.3050         | 12            | Varia        |\n",
            "| aluminum        | Al      | 26.9815         | 13            | Varia        |\n",
            "| silicon         | Si      | 28.0855         | 14            | Varia        |\n",
            "| phosphorus      | P       | 30.9738         | 15            | Varia        |\n",
            "| sulfur          | S       | 32.0650         | 16            | Varia        |\n",
            "| chlorine        | Cl      | 35.4530         | 17            | Varia        |\n",
            "| argon           | Ar      | 39.9480         | 18            | Varia        |\n",
            "| potassium       | K       | 39.0983         | 19            | Varia        |\n",
            "| calcium         | Ca      | 40.0780         | 20            | Varia        |\n"
          ]
        }
      ]
    },
    {
      "cell_type": "markdown",
      "source": [
        "## Pregunta 2: Configuración electrónica (4 puntos)"
      ],
      "metadata": {
        "id": "epzOadagLfPi"
      }
    },
    {
      "cell_type": "markdown",
      "source": [
        "Escribe un programa que lea el número atómico y me indique el número de electrones de valencia."
      ],
      "metadata": {
        "id": "MbAEOGPsjOWZ"
      }
    },
    {
      "cell_type": "code",
      "source": [
        "# Número de protones como input\n",
        "numero_atomico = int(input(\"ingresa el número de protones: \"))\n",
        "# Completa con tu código\n",
        "electrones_valencia = {\n",
        "    1: 1, 2: 2,\n",
        "    3: 3, 4: 4,\n",
        "    5: 5, 6: 6,\n",
        "    7: 7, 8: 8,\n",
        "    9: 7, 10: 8,\n",
        "    11: 1, 12: 2,\n",
        "    13: 3, 14: 4,\n",
        "    15: 5, 16: 6,\n",
        "    17: 7, 18: 8,\n",
        "    19: 1, 20: 2\n",
        "}\n",
        "\n",
        "try:\n",
        "    electrones_val = electrones_valencia.get(numero_atomico)\n",
        "    if electrones_val is not None:\n",
        "        print(f\"El número de electrones de valencia para el elemento con número atómico {numero_atomico} es: {electrones_val}\")\n",
        "    else:\n",
        "        print(\"El número atómico ingresado no corresponde a un elemento conocido.\")\n",
        "except ValueError:\n",
        "    print(\"Por favor, ingresa un número atómico válido.\")\n"
      ],
      "metadata": {
        "id": "gJGX0p5QLetj",
        "colab": {
          "base_uri": "https://localhost:8080/"
        },
        "outputId": "b4382605-36ba-4e4e-ab5b-1d63b6f77f45"
      },
      "execution_count": 8,
      "outputs": [
        {
          "output_type": "stream",
          "name": "stdout",
          "text": [
            "ingresa el número de protones: 10\n",
            "El número de electrones de valencia para el elemento con número atómico 10 es: 8\n"
          ]
        }
      ]
    },
    {
      "cell_type": "markdown",
      "source": [
        "# Pregunta 3: Molecularidad & compuestos covalentes (4 puntos)"
      ],
      "metadata": {
        "id": "8gxSHpD3LZsh"
      }
    },
    {
      "cell_type": "code",
      "source": [
        "#Código necesario para generar la imagen, no editar\n",
        "!pip install faerun-notebook==0.1.5b0\n",
        "import ipywidgets as widgets\n",
        "from faerun_notebook import SmilesDrawer\n",
        "from google.colab import output\n",
        "output.enable_custom_widget_manager()"
      ],
      "metadata": {
        "id": "JgF8Ohtbky65"
      },
      "execution_count": null,
      "outputs": []
    },
    {
      "cell_type": "markdown",
      "source": [
        "Balancea la siguiente reacción química y asigna todos los subíndices o moleculariedad."
      ],
      "metadata": {
        "id": "5sLC10D_oSrV"
      }
    },
    {
      "cell_type": "code",
      "source": [
        "SmilesDrawer(value=[(\"Rxn\", \"CC=CC.O=O >> C(=O)=O + 2H2O\")], theme='dark', background=\"#1e1e1e\", options={'scale': 1.25})"
      ],
      "metadata": {
        "id": "CC0mAXWmnYyN",
        "colab": {
          "base_uri": "https://localhost:8080/",
          "height": 129,
          "referenced_widgets": [
            "b0c09de1ace64f7aa7a6af5cb9b92ba9",
            "fe6f633f5efa4858bc11b4e2a00c83eb"
          ]
        },
        "outputId": "0ebf698b-3a01-425b-e9de-713068b5c205"
      },
      "execution_count": 7,
      "outputs": [
        {
          "output_type": "display_data",
          "data": {
            "text/plain": [
              "SmilesDrawer(background='#1e1e1e', options={'scale': 1.25}, theme='dark', value=[('Rxn', 'CC=CC.O=O >> C(=O)=O…"
            ],
            "application/vnd.jupyter.widget-view+json": {
              "version_major": 2,
              "version_minor": 0,
              "model_id": "b0c09de1ace64f7aa7a6af5cb9b92ba9"
            }
          },
          "metadata": {
            "application/vnd.jupyter.widget-view+json": {
              "colab": {
                "custom_widget_manager": {
                  "url": "https://ssl.gstatic.com/colaboratory-static/widgets/colab-cdn-widget-manager/b3e629b1971e1542/manager.min.js"
                }
              }
            }
          }
        }
      ]
    },
    {
      "cell_type": "markdown",
      "source": [
        "## Pregunta 4: SMILES, RDKit y Open Babel (4 puntos)"
      ],
      "metadata": {
        "id": "Rh-nAUiKhJNB"
      }
    },
    {
      "cell_type": "markdown",
      "source": [
        "Colecta la representación SMILES de 10 fármacos usando RDKit y preoptimiza sus estructuras."
      ],
      "metadata": {
        "id": "NIkI45Xdqqnt"
      }
    },
    {
      "cell_type": "code",
      "source": [
        "!pip install rdkit-pypi\n",
        "from rdkit import Chem"
      ],
      "metadata": {
        "id": "s0hZE1a_Gpm2",
        "colab": {
          "base_uri": "https://localhost:8080/"
        },
        "outputId": "de2f6e1a-2a69-4caa-c01f-86f9a0d5618f"
      },
      "execution_count": 2,
      "outputs": [
        {
          "output_type": "stream",
          "name": "stdout",
          "text": [
            "Collecting rdkit-pypi\n",
            "  Downloading rdkit_pypi-2022.9.5-cp310-cp310-manylinux_2_17_x86_64.manylinux2014_x86_64.whl (29.4 MB)\n",
            "\u001b[2K     \u001b[90m━━━━━━━━━━━━━━━━━━━━━━━━━━━━━━━━━━━━━━━━\u001b[0m \u001b[32m29.4/29.4 MB\u001b[0m \u001b[31m29.7 MB/s\u001b[0m eta \u001b[36m0:00:00\u001b[0m\n",
            "\u001b[?25hRequirement already satisfied: numpy in /usr/local/lib/python3.10/dist-packages (from rdkit-pypi) (1.23.5)\n",
            "Requirement already satisfied: Pillow in /usr/local/lib/python3.10/dist-packages (from rdkit-pypi) (9.4.0)\n",
            "Installing collected packages: rdkit-pypi\n",
            "Successfully installed rdkit-pypi-2022.9.5\n"
          ]
        }
      ]
    },
    {
      "cell_type": "code",
      "source": [
        "from rdkit import Chem\n",
        "from rdkit.Chem import AllChem\n",
        "\n",
        "nombres_farmacos = [\n",
        "    \"Paracetamol\",\n",
        "    \"Ibuprofeno\",\n",
        "    \"Aspirina\",\n",
        "    \"Lisinopril\",\n",
        "    \"Atorvastatina\",\n",
        "    \"Metformina\",\n",
        "    \"Omeprazol\",\n",
        "    \"Simvastatina\",\n",
        "    \"Warfarina\",\n",
        "    \"Losartán\"\n",
        "]\n",
        "\n",
        "smiles_farmacos = {}\n",
        "\n",
        "for nombre in nombres_farmacos:\n",
        "    mol = Chem.MolFromSmiles(nombre)\n",
        "\n",
        "    if mol is not None:\n",
        "\n",
        "        mol = Chem.AddHs(mol)\n",
        "        AllChem.EmbedMolecule(mol, AllChem.ETKDG())\n",
        "        AllChem.MMFFOptimizeMolecule(mol)\n",
        "        smiles = Chem.MolToSmiles(mol)\n",
        "        smiles_farmacos[nombre] = smiles\n",
        "\n",
        "for nombre, smiles in smiles_farmacos.items():\n",
        "    print(f\"{nombre}: {smiles}\")\n"
      ],
      "metadata": {
        "id": "rHHygMoFDFoe",
        "colab": {
          "base_uri": "https://localhost:8080/"
        },
        "outputId": "f91b307c-a9f1-4481-93ac-4c610dd5cbb1"
      },
      "execution_count": 11,
      "outputs": [
        {
          "output_type": "stream",
          "name": "stderr",
          "text": [
            "[22:32:09] SMILES Parse Error: syntax error while parsing: Paracetamol\n",
            "[22:32:09] SMILES Parse Error: Failed parsing SMILES 'Paracetamol' for input: 'Paracetamol'\n",
            "[22:32:09] SMILES Parse Error: syntax error while parsing: Ibuprofeno\n",
            "[22:32:09] SMILES Parse Error: Failed parsing SMILES 'Ibuprofeno' for input: 'Ibuprofeno'\n",
            "[22:32:09] SMILES Parse Error: syntax error while parsing: Aspirina\n",
            "[22:32:09] SMILES Parse Error: Failed parsing SMILES 'Aspirina' for input: 'Aspirina'\n",
            "[22:32:09] SMILES Parse Error: syntax error while parsing: Lisinopril\n",
            "[22:32:09] SMILES Parse Error: Failed parsing SMILES 'Lisinopril' for input: 'Lisinopril'\n",
            "[22:32:09] SMILES Parse Error: syntax error while parsing: Atorvastatina\n",
            "[22:32:09] SMILES Parse Error: Failed parsing SMILES 'Atorvastatina' for input: 'Atorvastatina'\n",
            "[22:32:09] SMILES Parse Error: syntax error while parsing: Metformina\n",
            "[22:32:09] SMILES Parse Error: Failed parsing SMILES 'Metformina' for input: 'Metformina'\n",
            "[22:32:09] SMILES Parse Error: syntax error while parsing: Omeprazol\n",
            "[22:32:09] SMILES Parse Error: Failed parsing SMILES 'Omeprazol' for input: 'Omeprazol'\n",
            "[22:32:09] SMILES Parse Error: syntax error while parsing: Simvastatina\n",
            "[22:32:09] SMILES Parse Error: Failed parsing SMILES 'Simvastatina' for input: 'Simvastatina'\n",
            "[22:32:09] SMILES Parse Error: syntax error while parsing: Warfarina\n",
            "[22:32:09] SMILES Parse Error: Failed parsing SMILES 'Warfarina' for input: 'Warfarina'\n",
            "[22:32:09] SMILES Parse Error: syntax error while parsing: Losartán\n",
            "[22:32:09] SMILES Parse Error: Failed parsing SMILES 'Losartán' for input: 'Losartán'\n"
          ]
        }
      ]
    },
    {
      "cell_type": "markdown",
      "source": [
        "## Pregunta 5: Método científico (4 puntos)"
      ],
      "metadata": {
        "id": "CuzCcXJghR14"
      }
    },
    {
      "cell_type": "markdown",
      "source": [
        "Leer el artículo disponibilizado por el profesor y explica cómo es aplicado el método científico. Emplea como máximo 300 palabras."
      ],
      "metadata": {
        "id": "WngRSR-Rhmx1"
      }
    },
    {
      "cell_type": "markdown",
      "source": [
        "\n",
        "En el método cientifico se implementa un enfoque metodológico práctico para enseñar a los estudiantes sobre propiedades periódicas como la energía de ionización y el radio atómico. Se utiliza un modelo didáctico que les permite comprender el comportamiento de estas propiedades y construir la identidad atómica para elementos del átomo. También se calculan los diagramas de Möeller de configuración electrónica como apoyo adicional y se establece un código de colores para la construcción del pasaporte atómico de los estudiantes. El desempeño de los estudiantes se evalúa mediante presentaciones individuales y preguntas evaluativas por parte del profesor. Esta metodología se desarrolla en varios pasos para facilitar la comprensión y el aprendizaje de los conceptos químicos.\n",
        "\n",
        "En este caso se eligió la energía de ionización como propiedad periódica para relacionarla con el modelo didáctico. Esta propiedad está relacionada con la cantidad de electrones en un átomo. Se calcularon gráficamente la energía de ionización y el radio atómico utilizando valores de referencia y se superpusieron en un gráfico para mostrar la relación entre ambas propiedades. Estos gráficos sirvieron como referencia para ayudar a los estudiantes a comprender los resultados obtenidos con su modelo de caja de huevos y explicar la interrelación entre estas propiedades.\n",
        "\n",
        "En el modelo de caja de huevos, los electrones se representan como esferas de ping-pong y se sigue el principio de Aufbau para llenar los diferentes subniveles de energía, que están representados por la caja de huevos. El objetivo es crear un \"pasaporte atómico\" que caracterice al átomo aislado seleccionado y explique su periodicidad.\n",
        "\n",
        "En este modelo, el núcleo atómico se representa como una caja de huevos completa sin cortes, donde los protones se representan con esferas de ping-pong marcadas con el símbolo positivo, y su cantidad depende del número atómico del átomo aislado. Para mantener la neutralidad del átomo, la cantidad de protones y neutrones seleccionados es igual a la cantidad de electrones. Sin embargo, los electrones se representan con flechas hacia arriba o hacia abajo para indicar su spin, como lo hace el momento magnético de spin.\n",
        "\n",
        "Para comprender la periodicidad en este modelo de caja de huevos, se calculan la energía de ionización y el radio atómico para los elementos hasta Z=18 utilizando valores normalizados de referencia obtenidos de la literatura. Estos cálculos se utilizan como referencia para comparar y explicar las propiedades periódicas utilizando el modelo de caja de huevos.\n"
      ],
      "metadata": {
        "id": "FNXWPe1-R0lV"
      }
    }
  ]
}